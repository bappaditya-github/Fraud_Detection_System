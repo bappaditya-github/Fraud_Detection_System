{
 "cells": [
  {
   "cell_type": "code",
   "execution_count": 2,
   "id": "e5c71d96-36b7-4d21-85de-58fcfa877235",
   "metadata": {},
   "outputs": [
    {
     "name": "stdout",
     "output_type": "stream",
     "text": [
      "Classification Report:\n",
      "              precision    recall  f1-score   support\n",
      "\n",
      "           0       1.00      0.99      0.99    284315\n",
      "           1       0.00      0.02      0.01       492\n",
      "\n",
      "    accuracy                           0.99    284807\n",
      "   macro avg       0.50      0.51      0.50    284807\n",
      "weighted avg       1.00      0.99      0.99    284807\n",
      "\n",
      "Accuracy: 0.9883464942926262\n",
      "Modeling with LOF completed.\n"
     ]
    }
   ],
   "source": [
    "import pandas as pd\n",
    "from sklearn.neighbors import LocalOutlierFactor\n",
    "from sklearn.metrics import classification_report, accuracy_score\n",
    "\n",
    "data = pd.read_csv('../data/processed_data.csv')\n",
    "X = data.drop(columns=['Class'])\n",
    "y = data['Class']\n",
    "\n",
    "lof = LocalOutlierFactor(n_neighbors=20, contamination=0.01)\n",
    "y_pred = lof.fit_predict(X)\n",
    "y_pred = [1 if x == -1 else 0 for x in y_pred]\n",
    "\n",
    "print(\"Classification Report:\")\n",
    "print(classification_report(y, y_pred))\n",
    "print(\"Accuracy:\", accuracy_score(y, y_pred))\n",
    "\n",
    "print(\"Modeling with LOF completed.\")"
   ]
  },
  {
   "cell_type": "code",
   "execution_count": null,
   "id": "36d4ef16-2029-47ea-85fa-007ef05b2831",
   "metadata": {},
   "outputs": [],
   "source": []
  }
 ],
 "metadata": {
  "kernelspec": {
   "display_name": "Python 3 (ipykernel)",
   "language": "python",
   "name": "python3"
  },
  "language_info": {
   "codemirror_mode": {
    "name": "ipython",
    "version": 3
   },
   "file_extension": ".py",
   "mimetype": "text/x-python",
   "name": "python",
   "nbconvert_exporter": "python",
   "pygments_lexer": "ipython3",
   "version": "3.9.5"
  }
 },
 "nbformat": 4,
 "nbformat_minor": 5
}
