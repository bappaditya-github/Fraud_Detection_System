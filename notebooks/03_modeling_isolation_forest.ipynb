{
 "cells": [
  {
   "cell_type": "code",
   "execution_count": 2,
   "id": "388391f7-f712-4c01-a23d-06e29f0783b7",
   "metadata": {},
   "outputs": [
    {
     "name": "stdout",
     "output_type": "stream",
     "text": [
      "Classification Report:\n",
      "              precision    recall  f1-score   support\n",
      "\n",
      "           0       1.00      0.99      1.00    284315\n",
      "           1       0.10      0.59      0.17       492\n",
      "\n",
      "    accuracy                           0.99    284807\n",
      "   macro avg       0.55      0.79      0.58    284807\n",
      "weighted avg       1.00      0.99      0.99    284807\n",
      "\n",
      "Accuracy: 0.9902986935012131\n",
      "Modeling with Isolation Forest completed and model saved.\n"
     ]
    }
   ],
   "source": [
    "import pandas as pd\n",
    "from sklearn.ensemble import IsolationForest\n",
    "from sklearn.metrics import classification_report, accuracy_score\n",
    "import joblib\n",
    "\n",
    "data = pd.read_csv('../data/processed_data.csv')\n",
    "X = data.drop(columns=['Class'])\n",
    "y = data['Class']\n",
    "\n",
    "model = IsolationForest(n_estimators=100, contamination=0.01, random_state=42)\n",
    "model.fit(X)\n",
    "\n",
    "predictions = model.predict(X)\n",
    "y_pred = [1 if x == -1 else 0 for x in predictions]\n",
    "\n",
    "print(\"Classification Report:\")\n",
    "print(classification_report(y, y_pred))\n",
    "print(\"Accuracy:\", accuracy_score(y, y_pred))\n",
    "\n",
    "joblib.dump(model, '../models/isolation_forest_model.pkl')\n",
    "\n",
    "print(\"Modeling with Isolation Forest completed and model saved.\")"
   ]
  },
  {
   "cell_type": "code",
   "execution_count": null,
   "id": "6022db1e-b050-49f7-8913-db0799cbdee9",
   "metadata": {},
   "outputs": [],
   "source": []
  }
 ],
 "metadata": {
  "kernelspec": {
   "display_name": "Python 3 (ipykernel)",
   "language": "python",
   "name": "python3"
  },
  "language_info": {
   "codemirror_mode": {
    "name": "ipython",
    "version": 3
   },
   "file_extension": ".py",
   "mimetype": "text/x-python",
   "name": "python",
   "nbconvert_exporter": "python",
   "pygments_lexer": "ipython3",
   "version": "3.9.5"
  }
 },
 "nbformat": 4,
 "nbformat_minor": 5
}
